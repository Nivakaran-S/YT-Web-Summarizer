{
 "cells": [
  {
   "cell_type": "code",
   "execution_count": null,
   "id": "741cbfb4",
   "metadata": {},
   "outputs": [],
   "source": [
    "import os\n",
    "from dotenv import load_dotenv\n",
    "load_dotenv()"
   ]
  },
  {
   "cell_type": "code",
   "execution_count": null,
   "id": "c9919427",
   "metadata": {},
   "outputs": [],
   "source": [
    "from langchain_groq import ChatGroq\n",
    "api_key=os.getenv(\"GROQ_API_KEY\")\n",
    "llm=ChatGroq(groq_api_key=api_key,model=\"Gemma-7b-It\")\n",
    "llm"
   ]
  },
  {
   "cell_type": "code",
   "execution_count": null,
   "id": "49165c4a",
   "metadata": {},
   "outputs": [],
   "source": [
    "from langchain.schema import(\n",
    "    AIMessage,\n",
    "    HumanMessage,SystemMessage\n",
    ")\n"
   ]
  },
  {
   "cell_type": "code",
   "execution_count": null,
   "id": "8201085f",
   "metadata": {},
   "outputs": [],
   "source": [
    "speech=\"\"\"\n",
    "People across the country, involved in government, political, and social activities, are dedicating their time to make the ‘Viksit Bharat Sankalp Yatra’ (Developed India Resolution Journey) successful. Therefore, as a Member of Parliament, it was my responsibility to also contribute my time to this program. So, today, I have come here just as a Member of Parliament and your ‘sevak’, ready to participate in this program, much like you.\n",
    "\n",
    "In our country, governments have come and gone, numerous schemes have been formulated, discussions have taken place, and big promises have been made. However, my experience and observations led me to believe that the most critical aspect that requires attention is ensuring that the government’s plans reach the intended beneficiaries without any hassles. If there is a ‘Pradhan Mantri Awas Yojana’ (Prime Minister’s housing scheme), then those who are living in jhuggis and slums should get their houses. And he should not need to make rounds of the government offices for this purpose. The government should reach him. Since you have assigned this responsibility to me, about four crore families have got their ‘pucca’ houses. However, I have encountered cases where someone is left out of the government benefits. Therefore, I have decided to tour the country again, to listen to people’s experiences with government schemes, to understand whether they received the intended benefits, and to ensure that the programs are reaching everyone as planned without paying any bribes. We will get the real picture if we visit them again. Therefore, this ‘Viksit Bharat Sankalp Yatra’ is, in a way, my own examination. I want to hear from you and the people across the country whether what I envisioned and the work I have been doing aligns with reality and whether it has reached those for whom it was meant.\n",
    "\n",
    "It is crucial to check whether the work that was supposed to happen has indeed taken place. I recently met some individuals who utilized the Ayushman card to get treatment for serious illnesses. One person met with a severe accident, and after using the card, he could afford the necessary operation, and now he is recovering well. When I asked him, he said: “How could I afford this treatment? Now that there is the Ayushman card, I mustered courage and underwent an operation. Now I am perfectly fine.”  Such stories are blessings to me.\n",
    "\n",
    "The bureaucrats, who prepare good schemes, expedite the paperwork and even allocate funds, also feel satisfied that 50 or 100 people who were supposed to get the funds have got it. The funds meant for a thousand villages have been released. But their job satisfaction peaks when they hear that their work has directly impacted someone’s life positively. When they see the tangible results of their efforts, their enthusiasm multiplies. They feel satisfied. Therefore, ‘Viksit Bharat Sankalp Yatra’ has had a positive impact on government officers. It has made them more enthusiastic about their work, especially when they witness the tangible benefits reaching the people. Officers now feel satisfied with their work, saying, “I made a good plan, I created a file, and the intended beneficiaries received the benefits.” When they find that the money has reached a poor widow under the Jeevan Jyoti scheme and it was a great help to her during her crisis, they realise that they have done a good job. When a government officer listens to such stories, he feels very satisfied.\n",
    "\n",
    "There are very few who understand the power and impact of the ‘Viksit Bharat Sankalp Yatra’. When I hear people connected to bureaucratic circles talking about it, expressing their satisfaction, it resonates with me. I’ve heard stories where someone suddenly received 2 lakh rupees after the death of her husband, and a sister mentioned how the arrival of gas in her home transformed her lives. The most significant aspect is when someone says that the line between rich and poor has vanished. While the slogan ‘Garibi Hatao’ (Remove Poverty) is one thing, but the real change happens when a person says, “As soon as the gas stove came to my house, the distinction between poverty and affluence disappeared.\n",
    "\"\"\""
   ]
  },
  {
   "cell_type": "code",
   "execution_count": null,
   "id": "e8119b55",
   "metadata": {},
   "outputs": [],
   "source": [
    "chat_message=[\n",
    "    SystemMessage(content=\"You are expert with experise in summarizing speeched\"),\n",
    "    HumanMessage(content=f\"Please provide a short and concisse summary of the follow speech:\\n Text:{speech}\")\n",
    "]"
   ]
  },
  {
   "cell_type": "code",
   "execution_count": null,
   "id": "54ea18cc",
   "metadata": {},
   "outputs": [],
   "source": [
    "llm.get_num_tokens(speech)\n"
   ]
  },
  {
   "cell_type": "markdown",
   "id": "d1d76e11",
   "metadata": {},
   "source": [
    "# Prompt Template Text Summarization"
   ]
  },
  {
   "cell_type": "code",
   "execution_count": null,
   "id": "b18fcc58",
   "metadata": {},
   "outputs": [],
   "source": [
    "from langchain.chains import LLMChain\n",
    "from langchain import PromptTemplate\n",
    "\n",
    "generictemplate=\"\"\"\n",
    "Write a summary of the following speech:\n",
    "Speech:{speech}\n",
    "Translate the precise summary to {language}\n",
    "\"\"\"\n",
    "\n",
    "prompt=PromptTemplate(\n",
    "    input_variables=['speech','language'],\n",
    "    template=generictemplate\n",
    ")\n",
    "prompt"
   ]
  },
  {
   "cell_type": "code",
   "execution_count": null,
   "id": "0e9752ab",
   "metadata": {},
   "outputs": [],
   "source": [
    "complete_prompt=prompt.format(speech=speech,language=\"French\")\n",
    "complete_prompt"
   ]
  },
  {
   "cell_type": "code",
   "execution_count": null,
   "id": "02cdfa3d",
   "metadata": {},
   "outputs": [],
   "source": [
    "llm.get_num_tokens(complete_prompt)"
   ]
  },
  {
   "cell_type": "code",
   "execution_count": null,
   "id": "eeadb1d8",
   "metadata": {},
   "outputs": [],
   "source": [
    "llm_chain=LLMChain(llm=llm,prompt=prompt)\n",
    "summary=llm_chain.run({'speech':speech,'language':'hindi'})\n",
    "summary"
   ]
  },
  {
   "cell_type": "markdown",
   "id": "78b564f9",
   "metadata": {},
   "source": [
    "# StuffDocumentChain Text Summarization"
   ]
  },
  {
   "cell_type": "code",
   "execution_count": null,
   "id": "7d21ea39",
   "metadata": {},
   "outputs": [],
   "source": [
    "from langchain_community.document_loaders import PyPDFLoader\n",
    "\n",
    "loader = PyPDFLoader(\"apjspeech.pdf\")\n",
    "docs = loader.load_and_split()\n",
    "docs"
   ]
  },
  {
   "cell_type": "code",
   "execution_count": null,
   "id": "c690b60e",
   "metadata": {},
   "outputs": [],
   "source": [
    "template=\"\"\" Write a concise and short summary of the following speech,\n",
    "Speech :{text}\n",
    "\n",
    " \"\"\"\n",
    "prompt=PromptTemplate(input_variables=['text'],\n",
    "                      template=template)\n"
   ]
  },
  {
   "cell_type": "code",
   "execution_count": null,
   "id": "f99071f3",
   "metadata": {},
   "outputs": [],
   "source": [
    "from langchain.chains.summarize import load_summarize_chain\n",
    "\n",
    "chain=load_summarize_chain(llm,chain_type='stuff',prompt=prompt,verbose=True)\n",
    "output_summary=chain.run(docs)\n",
    "output_summary\n"
   ]
  },
  {
   "cell_type": "markdown",
   "id": "2999bd61",
   "metadata": {},
   "source": [
    "# Map Reduce to Summarize Large Documents"
   ]
  },
  {
   "cell_type": "code",
   "execution_count": null,
   "id": "88038b6e",
   "metadata": {},
   "outputs": [],
   "source": [
    "from langchain.text_splitter import RecursiveCharacterTextSplitter\n",
    "\n",
    "final_documents=RecursiveCharacterTextSplitter(chunk_size=2000,chunk_overlap=100).split_documents(docs)\n",
    "final_documents\n",
    "\n"
   ]
  },
  {
   "cell_type": "code",
   "execution_count": null,
   "id": "ee1ee531",
   "metadata": {},
   "outputs": [],
   "source": [
    "len(final_documents)"
   ]
  },
  {
   "cell_type": "code",
   "execution_count": null,
   "id": "ad3301c0",
   "metadata": {},
   "outputs": [],
   "source": [
    "chunks_prompt=\"\"\"\n",
    "Please summarize the below speech:\n",
    "Speech:`{text}'\n",
    "Summary:\n",
    "\"\"\"\n",
    "map_prompt_template=PromptTemplate(input_variables=['text'],\n",
    "                                    template=chunks_prompt)"
   ]
  },
  {
   "cell_type": "code",
   "execution_count": null,
   "id": "ed5bf58a",
   "metadata": {},
   "outputs": [],
   "source": [
    "final_prompt='''\n",
    "Provide the final summary of the entire speech with these important points.\n",
    "Add a Motivation Title,Start the precise summary with an introduction and provide the summary in number \n",
    "points for the speech.\n",
    "Speech:{text}\n",
    "\n",
    "'''\n",
    "final_prompt_template=PromptTemplate(input_variables=['text'],template=final_prompt)\n",
    "final_prompt_template"
   ]
  },
  {
   "cell_type": "code",
   "execution_count": null,
   "id": "f7be1443",
   "metadata": {},
   "outputs": [],
   "source": [
    "summary_chain=load_summarize_chain(\n",
    "    llm=llm,\n",
    "    chain_type=\"map_reduce\",\n",
    "    map_prompt=map_prompt_template,\n",
    "    combine_prompt=final_prompt_template,\n",
    "    verbose=True\n",
    ")\n",
    "\n",
    "output=summary_chain.run(final_documents)\n",
    "output"
   ]
  },
  {
   "cell_type": "markdown",
   "id": "741083ce",
   "metadata": {},
   "source": [
    "# Refine Chain for Summarization"
   ]
  },
  {
   "cell_type": "code",
   "execution_count": null,
   "id": "2ab338b5",
   "metadata": {},
   "outputs": [],
   "source": [
    "chain=load_summarize_chain(\n",
    "    llm=llm,\n",
    "    chain_type=\"refine\",\n",
    "    verbose=True\n",
    ")\n",
    "output_summary=chain.run(final_documents)\n",
    "output_summary"
   ]
  }
 ],
 "metadata": {
  "kernelspec": {
   "display_name": "rag",
   "language": "python",
   "name": "python3"
  },
  "language_info": {
   "name": "python",
   "version": "3.10.0"
  }
 },
 "nbformat": 4,
 "nbformat_minor": 5
}
